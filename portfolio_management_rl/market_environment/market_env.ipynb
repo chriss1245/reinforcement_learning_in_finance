{
 "cells": [
  {
   "cell_type": "code",
   "execution_count": 5,
   "metadata": {},
   "outputs": [],
   "source": [
    "from utils import *"
   ]
  },
  {
   "cell_type": "code",
   "execution_count": 7,
   "metadata": {},
   "outputs": [],
   "source": [
    "\"\"\"\n",
    "This module emulates the market. It offers an interface to the agent to get the current state of the market and to execute\n",
    "actions on the market.\n",
    "\"\"\"\n",
    "\n",
    "import gym\n",
    "import pandas as pd\n",
    "import datetime\n",
    "\n",
    "\n",
    "class MarketEnvironmnet(gym.Env):\n",
    "    \"\"\"\n",
    "    Market environment. Simulates the market and offers an interface to the agent to get the current state\n",
    "    of the market and to execute actions on the market.\n",
    "    \"\"\"\n",
    "\n",
    "    def __init__(self, data: pd.DataFrame, initial_date: datetime.datetime,\n",
    "                step_size_days: int, initial_balance: float, transaction_cost: float):\n",
    "        \"\"\"\n",
    "        Market environment. Simulates the market and offers an interface for\n",
    "        portfolio management agents to get the current state of the market ands\n",
    "        to execute actions on the market.\n",
    "        \"\"\"\n",
    "\n",
    "        self.data = data\n",
    "        self.initial_date = initial_date\n",
    "        self.step_size = datetime.timedelta(days=step_size_days)\n",
    "\n",
    "        self.initial_balance = initial_balance\n",
    "        self.balance = initial_balance\n",
    "        self.transaction_cost = transaction_cost\n",
    "\n",
    "        self.company_shares = { company: 0 for company in data.columns }\n",
    "        self.action_space = PortfolioDistributionSpace()\n",
    "    \n",
    "    def reset(self):\n",
    "        \"\"\"\n",
    "        Resets the market environment.\n",
    "        \"\"\"\n",
    "        self.balance = self.initial_balance\n",
    "        self.company_shares = {}\n",
    "        return self._get_state()\n",
    "    \n",
    "    def step(self, action: dict):\n",
    "        \"\"\"\n",
    "        Executes an action on the market.\n",
    "        \"\"\"\n",
    "        self._execute_action(action)\n",
    "        return self._get_state(), self._get_reward(), self._is_done(), {}\n"
   ]
  },
  {
   "cell_type": "code",
   "execution_count": null,
   "metadata": {},
   "outputs": [],
   "source": []
  },
  {
   "cell_type": "code",
   "execution_count": 4,
   "metadata": {},
   "outputs": [
    {
     "data": {
      "text/plain": [
       "Dict('balance': Box(0.0, 1.0, (1,), float32))"
      ]
     },
     "execution_count": 4,
     "metadata": {},
     "output_type": "execute_result"
    }
   ],
   "source": []
  }
 ],
 "metadata": {
  "kernelspec": {
   "display_name": "Python 3.11.3 ('tfg_env')",
   "language": "python",
   "name": "python3"
  },
  "language_info": {
   "codemirror_mode": {
    "name": "ipython",
    "version": 3
   },
   "file_extension": ".py",
   "mimetype": "text/x-python",
   "name": "python",
   "nbconvert_exporter": "python",
   "pygments_lexer": "ipython3",
   "version": "3.11.3"
  },
  "orig_nbformat": 4,
  "vscode": {
   "interpreter": {
    "hash": "49f6539f6914b4990fef8b2d27d59bc62fb7c8f4ae2af60af70311ffdd466a67"
   }
  }
 },
 "nbformat": 4,
 "nbformat_minor": 2
}
