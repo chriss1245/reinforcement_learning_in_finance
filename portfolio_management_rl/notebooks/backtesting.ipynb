{
 "cells": [
  {
   "cell_type": "code",
   "execution_count": 1,
   "metadata": {},
   "outputs": [],
   "source": [
    "\n",
    "from portfolio_management_rl.market_environment.market_env import MarketEnv\n",
    "import pandas as pd"
   ]
  },
  {
   "cell_type": "code",
   "execution_count": 2,
   "metadata": {},
   "outputs": [
    {
     "data": {
      "text/plain": [
       "'2'"
      ]
     },
     "execution_count": 2,
     "metadata": {},
     "output_type": "execute_result"
    }
   ],
   "source": [
    "date = \"1990-01-02\"\n",
    "from datetime import datetime\n",
    "date = datetime.strptime(date, \"%Y-%m-%d\")\n",
    "\n",
    "date.strftime(\"%w\")"
   ]
  },
  {
   "cell_type": "code",
   "execution_count": 3,
   "metadata": {},
   "outputs": [],
   "source": [
    "data = pd.read_csv(\"../../data/sp500/adj_close_df.csv\", index_col=0, parse_dates=True)\n",
    "len(data)\n",
    "data.bfill(inplace=True)\n",
    "from portfolio_management_rl.datasets.dataset import StocksDataset\n",
    "\n",
    "dataset = StocksDataset(data, observation_horizon_days=730, forecast_horizon_days=30, step_size_days=1)"
   ]
  },
  {
   "cell_type": "code",
   "execution_count": 4,
   "metadata": {},
   "outputs": [],
   "source": [
    "from gym.spaces.box import Box\n",
    "\n",
    "# Box()"
   ]
  },
  {
   "cell_type": "code",
   "execution_count": 5,
   "metadata": {},
   "outputs": [],
   "source": [
    "from typing import List\n",
    "\n",
    "from portfolio_management_rl.agents.base import BaseAgent\n",
    "from portfolio_management_rl.agents.efficient_frotier_agent import EfficientFrontierAgent\n",
    "from portfolio_management_rl.agents.equal_weight_agent import EqualWeightAgent"
   ]
  },
  {
   "cell_type": "code",
   "execution_count": 6,
   "metadata": {},
   "outputs": [],
   "source": [
    "market = MarketEnv(dataset)\n",
    "\n",
    "agents = [\n",
    "    EfficientFrontierAgent(),\n",
    "    EqualWeightAgent(),\n",
    "    EqualWeightAgent(rebalance=False),\n",
    "]\n",
    "agent = agents[2]"
   ]
  },
  {
   "cell_type": "code",
   "execution_count": 7,
   "metadata": {},
   "outputs": [
    {
     "ename": "NameError",
     "evalue": "name 'state' is not defined",
     "output_type": "error",
     "traceback": [
      "\u001b[0;31m---------------------------------------------------------------------------\u001b[0m",
      "\u001b[0;31mNameError\u001b[0m                                 Traceback (most recent call last)",
      "Cell \u001b[0;32mIn[7], line 1\u001b[0m\n\u001b[0;32m----> 1\u001b[0m state\u001b[39m.\u001b[39mportfolio\u001b[39m.\u001b[39mshape\n",
      "\u001b[0;31mNameError\u001b[0m: name 'state' is not defined"
     ]
    }
   ],
   "source": [
    "state.portfolio.shape"
   ]
  },
  {
   "cell_type": "code",
   "execution_count": null,
   "metadata": {},
   "outputs": [
    {
     "data": {
      "text/plain": [
       "(100,)"
      ]
     },
     "execution_count": 16,
     "metadata": {},
     "output_type": "execute_result"
    }
   ],
   "source": [
    "state.prices.shape"
   ]
  },
  {
   "cell_type": "code",
   "execution_count": null,
   "metadata": {},
   "outputs": [
    {
     "data": {
      "text/plain": [
       "nan"
      ]
     },
     "execution_count": 17,
     "metadata": {},
     "output_type": "execute_result"
    }
   ],
   "source": [
    "state.net_worth"
   ]
  },
  {
   "cell_type": "code",
   "execution_count": null,
   "metadata": {},
   "outputs": [
    {
     "data": {
      "text/plain": [
       "(101,)"
      ]
     },
     "execution_count": 18,
     "metadata": {},
     "output_type": "execute_result"
    }
   ],
   "source": [
    "state.portfolio.shape"
   ]
  },
  {
   "cell_type": "code",
   "execution_count": null,
   "metadata": {},
   "outputs": [],
   "source": []
  },
  {
   "cell_type": "code",
   "execution_count": null,
   "metadata": {},
   "outputs": [
    {
     "data": {
      "text/plain": [
       "array([nan, nan, nan, nan, nan, nan, nan, nan, nan, nan, nan, nan, nan,\n",
       "       nan, nan, nan, nan, nan, nan, nan, nan, nan, nan, nan, nan, nan,\n",
       "       nan, nan, nan, nan, nan, nan, nan, nan, nan, nan, nan, nan, nan,\n",
       "       nan, nan, nan, nan, nan, nan, nan, nan, nan, nan, nan, nan, nan,\n",
       "       nan, nan, nan, nan, nan, nan, nan, nan, nan, nan, nan, nan, nan,\n",
       "       nan, nan, nan, nan, nan, nan, nan, nan, nan, nan, nan, nan, nan,\n",
       "       nan, nan, nan, nan, nan, nan, nan, nan, nan, nan, nan, nan, nan,\n",
       "       nan, nan, nan, nan, nan, nan, nan, nan, nan, nan])"
      ]
     },
     "execution_count": 19,
     "metadata": {},
     "output_type": "execute_result"
    }
   ],
   "source": [
    "state.portfolio"
   ]
  },
  {
   "cell_type": "code",
   "execution_count": null,
   "metadata": {},
   "outputs": [
    {
     "data": {
      "text/plain": [
       "{'distribution': array([0.00990099, 0.00990099, 0.00990099, 0.00990099, 0.00990099,\n",
       "        0.00990099, 0.00990099, 0.00990099, 0.00990099, 0.00990099,\n",
       "        0.00990099, 0.00990099, 0.00990099, 0.00990099, 0.00990099,\n",
       "        0.00990099, 0.00990099, 0.00990099, 0.00990099, 0.00990099,\n",
       "        0.00990099, 0.00990099, 0.00990099, 0.00990099, 0.00990099,\n",
       "        0.00990099, 0.00990099, 0.00990099, 0.00990099, 0.00990099,\n",
       "        0.00990099, 0.00990099, 0.00990099, 0.00990099, 0.00990099,\n",
       "        0.00990099, 0.00990099, 0.00990099, 0.00990099, 0.00990099,\n",
       "        0.00990099, 0.00990099, 0.00990099, 0.00990099, 0.00990099,\n",
       "        0.00990099, 0.00990099, 0.00990099, 0.00990099, 0.00990099,\n",
       "        0.00990099, 0.00990099, 0.00990099, 0.00990099, 0.00990099,\n",
       "        0.00990099, 0.00990099, 0.00990099, 0.00990099, 0.00990099,\n",
       "        0.00990099, 0.00990099, 0.00990099, 0.00990099, 0.00990099,\n",
       "        0.00990099, 0.00990099, 0.00990099, 0.00990099, 0.00990099,\n",
       "        0.00990099, 0.00990099, 0.00990099, 0.00990099, 0.00990099,\n",
       "        0.00990099, 0.00990099, 0.00990099, 0.00990099, 0.00990099,\n",
       "        0.00990099, 0.00990099, 0.00990099, 0.00990099, 0.00990099,\n",
       "        0.00990099, 0.00990099, 0.00990099, 0.00990099, 0.00990099,\n",
       "        0.00990099, 0.00990099, 0.00990099, 0.00990099, 0.00990099,\n",
       "        0.00990099, 0.00990099, 0.00990099, 0.00990099, 0.00990099,\n",
       "        0.00990099])}"
      ]
     },
     "execution_count": 20,
     "metadata": {},
     "output_type": "execute_result"
    }
   ],
   "source": [
    "agent.action(state)"
   ]
  },
  {
   "cell_type": "code",
   "execution_count": null,
   "metadata": {},
   "outputs": [
    {
     "data": {
      "text/plain": [
       "{'distribution': array([0.00990099, 0.00990099, 0.00990099, 0.00990099, 0.00990099,\n",
       "        0.00990099, 0.00990099, 0.00990099, 0.00990099, 0.00990099,\n",
       "        0.00990099, 0.00990099, 0.00990099, 0.00990099, 0.00990099,\n",
       "        0.00990099, 0.00990099, 0.00990099, 0.00990099, 0.00990099,\n",
       "        0.00990099, 0.00990099, 0.00990099, 0.00990099, 0.00990099,\n",
       "        0.00990099, 0.00990099, 0.00990099, 0.00990099, 0.00990099,\n",
       "        0.00990099, 0.00990099, 0.00990099, 0.00990099, 0.00990099,\n",
       "        0.00990099, 0.00990099, 0.00990099, 0.00990099, 0.00990099,\n",
       "        0.00990099, 0.00990099, 0.00990099, 0.00990099, 0.00990099,\n",
       "        0.00990099, 0.00990099, 0.00990099, 0.00990099, 0.00990099,\n",
       "        0.00990099, 0.00990099, 0.00990099, 0.00990099, 0.00990099,\n",
       "        0.00990099, 0.00990099, 0.00990099, 0.00990099, 0.00990099,\n",
       "        0.00990099, 0.00990099, 0.00990099, 0.00990099, 0.00990099,\n",
       "        0.00990099, 0.00990099, 0.00990099, 0.00990099, 0.00990099,\n",
       "        0.00990099, 0.00990099, 0.00990099, 0.00990099, 0.00990099,\n",
       "        0.00990099, 0.00990099, 0.00990099, 0.00990099, 0.00990099,\n",
       "        0.00990099, 0.00990099, 0.00990099, 0.00990099, 0.00990099,\n",
       "        0.00990099, 0.00990099, 0.00990099, 0.00990099, 0.00990099,\n",
       "        0.00990099, 0.00990099, 0.00990099, 0.00990099, 0.00990099,\n",
       "        0.00990099, 0.00990099, 0.00990099, 0.00990099, 0.00990099,\n",
       "        0.00990099])}"
      ]
     },
     "execution_count": 21,
     "metadata": {},
     "output_type": "execute_result"
    }
   ],
   "source": [
    "action"
   ]
  },
  {
   "cell_type": "code",
   "execution_count": null,
   "metadata": {},
   "outputs": [
    {
     "data": {
      "text/plain": [
       "MarketEnvState(history=array([[ 7.74364519,  7.82781744,  7.88793516, ..., 10.95322323,\n",
       "        10.7583456 , 10.67825222],\n",
       "       [ 1.85524857,  1.86194599,  1.85859704, ...,  3.40053153,\n",
       "         3.42898679,  3.51435447],\n",
       "       [ 4.70886803,  4.70886803,  4.68327618, ...,  6.35938692,\n",
       "         6.17940617,  6.17940617],\n",
       "       ...,\n",
       "       [ 4.19309711,  4.23246861,  4.35058546, ...,  4.76693487,\n",
       "         4.76693487,  4.76693487],\n",
       "       [ 4.77090836,  4.72450018,  4.67808771, ...,  9.40960979,\n",
       "         9.40960979,  9.525774  ],\n",
       "       [ 5.26006031,  5.20288324,  5.20288324, ...,  6.76413393,\n",
       "         6.72362709,  6.68312597]]), portfolio=array([nan, nan, nan, nan, nan, nan, nan, nan, nan, nan, nan, nan, nan,\n",
       "       nan, nan, nan, nan, nan, nan, nan, nan, nan, nan, nan, nan, nan,\n",
       "       nan, nan, nan, nan, nan, nan, nan, nan, nan, nan, nan, nan, nan,\n",
       "       nan, nan, nan, nan, nan, nan, nan, nan, nan, nan, nan, nan, nan,\n",
       "       nan, nan, nan, nan, nan, nan, nan, nan, nan, nan, nan, nan, nan,\n",
       "       nan, nan, nan, nan, nan, nan, nan, nan, nan, nan, nan, nan, nan,\n",
       "       nan, nan, nan, nan, nan, nan, nan, nan, nan, nan, nan, nan, nan,\n",
       "       nan, nan, nan, nan, nan, nan, nan, nan, nan, nan]), done=False)"
      ]
     },
     "execution_count": 22,
     "metadata": {},
     "output_type": "execute_result"
    }
   ],
   "source": [
    "state"
   ]
  },
  {
   "cell_type": "code",
   "execution_count": null,
   "metadata": {},
   "outputs": [
    {
     "data": {
      "text/plain": [
       "1744"
      ]
     },
     "execution_count": 20,
     "metadata": {},
     "output_type": "execute_result"
    }
   ],
   "source": [
    "i"
   ]
  },
  {
   "cell_type": "code",
   "execution_count": null,
   "metadata": {},
   "outputs": [],
   "source": [
    "state = market.reset()\n",
    "rewards = []\n",
    "for i in range(len(market.dataset)):\n",
    "   \n",
    "    action = agent.action(state)\n",
    "    \n",
    "    state, reward, done = market.step(action)\n",
    "\n",
    "\n",
    "\n",
    "\n",
    "    rewards.append(reward)\n",
    "\n"
   ]
  },
  {
   "cell_type": "code",
   "execution_count": null,
   "metadata": {},
   "outputs": [
    {
     "data": {
      "text/plain": [
       "nan"
      ]
     },
     "execution_count": 27,
     "metadata": {},
     "output_type": "execute_result"
    }
   ],
   "source": [
    "state.net_worth"
   ]
  },
  {
   "cell_type": "code",
   "execution_count": null,
   "metadata": {},
   "outputs": [
    {
     "data": {
      "text/plain": [
       "Text(0, 0.5, 'Reward')"
      ]
     },
     "execution_count": 25,
     "metadata": {},
     "output_type": "execute_result"
    },
    {
     "data": {
      "image/png": "[encoded data removed]",
      "text/plain": [
       "<Figure size 2000x600 with 1 Axes>"
      ]
     },
     "metadata": {},
     "output_type": "display_data"
    }
   ],
   "source": [
    "import matplotlib.pyplot as plt\n",
    "import numpy as np\n",
    "\n",
    "plt.figure(figsize=(20, 6))\n",
    "plt.plot(range(len(market.dataset)), rewards, label=\"Reward\")\n",
    "plt.plot(range(len(market.dataset)), np.cumsum(rewards), label=\"Cumulative Reward\")\n",
    "plt.xlabel(\"Episode\")\n",
    "plt.ylabel(\"Reward\")"
   ]
  },
  {
   "cell_type": "code",
   "execution_count": null,
   "metadata": {},
   "outputs": [
    {
     "data": {
      "text/plain": [
       "array([3.00953904e+12, 7.12418448e+12, 1.11981577e+13, 3.32257245e+12,\n",
       "       4.66103118e+12, 3.60026497e+13, 6.16505368e+12, 2.41240805e+12,\n",
       "       1.05640251e+11, 1.48911614e+14, 9.52697329e+12, 1.50224429e+13,\n",
       "       2.43314478e+12, 3.58346488e+13, 5.06657752e+12, 1.18771401e+13,\n",
       "       6.96214043e+12, 3.82736214e+12, 2.92381706e+12, 2.34500403e+12,\n",
       "       1.74988336e+13, 3.62045803e+12, 5.00424412e+12, 9.78090523e+12,\n",
       "       3.98807508e+12, 3.56742314e+12, 3.87077812e+11, 3.52660859e+12,\n",
       "       4.53044101e+12, 5.47612293e+12, 4.76019849e+12, 9.57025346e+12,\n",
       "       8.63818640e+12, 6.04431112e+12, 5.26322791e+13, 9.48448877e+12,\n",
       "       5.09824060e+12, 6.39856333e+12, 3.81180162e+12, 4.43723050e+12,\n",
       "       7.14598755e+12, 4.62184017e+12, 8.66746177e+12, 5.56293830e+12,\n",
       "       5.99333642e+12, 2.07687409e+12, 4.93522092e+12, 6.65868289e+12,\n",
       "       1.30283239e+13, 4.08303488e+12, 2.19735683e+12, 5.37137822e+12,\n",
       "       4.50422071e+12, 5.52676070e+11, 7.14471729e+12, 6.34248646e+12,\n",
       "       7.97604417e+12, 6.06526434e+12, 3.15043938e+12, 6.13600521e+12,\n",
       "       5.04327192e+12, 5.31573505e+12, 2.48092241e+12, 2.21035577e+12,\n",
       "       3.95860126e+12, 7.76807336e+12, 1.32938352e+12, 3.19232759e+12,\n",
       "       3.70128344e+12, 3.39407217e+12, 3.56747943e+12, 2.75160716e+12,\n",
       "       3.00134590e+12, 4.10098179e+12, 3.02612181e+12, 9.00974181e+12,\n",
       "       3.47186293e+12, 4.86260846e+12, 8.14270739e+12, 1.55266330e+13,\n",
       "       3.72311615e+12, 4.91883577e+12, 3.01140579e+12, 3.15978079e+12,\n",
       "       2.48895859e+12, 4.44715508e+12, 9.57444564e+11, 5.65423704e+12,\n",
       "       4.19439048e+12, 2.52346105e+13, 1.33459362e+13, 5.49796099e+12,\n",
       "       4.70205831e+12, 1.24041295e+13, 1.44706374e+13, 7.62397096e+12,\n",
       "       2.85058724e+13, 3.43268946e+12, 3.98286910e+12, 4.75204396e+12,\n",
       "       0.00000000e+00])"
      ]
     },
     "execution_count": 25,
     "metadata": {},
     "output_type": "execute_result"
    }
   ],
   "source": [
    "market.current_state.portfolio"
   ]
  },
  {
   "cell_type": "code",
   "execution_count": null,
   "metadata": {},
   "outputs": [
    {
     "data": {
      "text/plain": [
       "10000.0"
      ]
     },
     "execution_count": 10,
     "metadata": {},
     "output_type": "execute_result"
    }
   ],
   "source": [
    "market.last_state.net_worth"
   ]
  },
  {
   "cell_type": "code",
   "execution_count": null,
   "metadata": {},
   "outputs": [
    {
     "data": {
      "text/plain": [
       "10000.0"
      ]
     },
     "execution_count": 14,
     "metadata": {},
     "output_type": "execute_result"
    }
   ],
   "source": [
    "market.current_state.net_worth"
   ]
  },
  {
   "cell_type": "code",
   "execution_count": null,
   "metadata": {},
   "outputs": [
    {
     "data": {
      "text/plain": [
       "array([ 10.67825222,   3.51435447,   6.17940617,   5.7202177 ,\n",
       "        10.89761925,   1.22688699,   7.28101969,   3.53393364,\n",
       "       146.46446228,   0.40351388,   1.9379425 ,   5.88412189,\n",
       "         6.28559637,   1.25410175,   5.41869831,   2.76867652,\n",
       "         4.08245564,   6.0139246 ,   9.91201401,   5.586164  ,\n",
       "         1.59882116,   8.88290596,   3.17006993,   4.0014472 ,\n",
       "         5.69474459,   4.28252411,  19.40734863,   5.0151062 ,\n",
       "         6.77529669,   4.96183109,   3.8929987 ,   4.72572613,\n",
       "         3.49029708,   6.9310503 ,   0.98563015,   4.47701645,\n",
       "         6.82036304,   3.492347  ,   9.99964333,   4.28286362,\n",
       "         6.38832426,   7.72523355,   2.96137714,   3.14905858,\n",
       "         7.51458549,   6.584445  ,   5.6314702 ,   8.42361546,\n",
       "         2.74655771,   5.56848431,  10.29811668,   2.65718627,\n",
       "         4.64803934,  18.29628372,   5.58734608,   7.83514833,\n",
       "         6.96254206,   4.27100325,  13.90263462,   8.07223511,\n",
       "         5.86713791,  10.29803562,   5.92814207,   7.11316252,\n",
       "        18.22347641,   1.43276465,   7.99971533,   4.30650854,\n",
       "         1.21127284,  18.22433662,  11.17118263,   6.10212135,\n",
       "         4.91909361,  14.38229561,  11.0483799 ,   1.26298714,\n",
       "         7.77114439,   6.62772942,   0.87046969,   2.24141622,\n",
       "         7.09814215,   5.63027334,   6.45504856,   4.15730381,\n",
       "         7.93043852,   5.25721645,  19.76072121,   8.36382103,\n",
       "        20.05874634,   1.51254237,   2.08433557,   9.60981846,\n",
       "         5.84600735,   3.95506716,   2.92296743,   0.41955128,\n",
       "         1.33644927,   4.76693487,   9.525774  ,   6.68312597])"
      ]
     },
     "execution_count": 27,
     "metadata": {},
     "output_type": "execute_result"
    }
   ],
   "source": [
    "market.last_state.prices"
   ]
  },
  {
   "cell_type": "code",
   "execution_count": null,
   "metadata": {},
   "outputs": [],
   "source": [
    "previous_gain = (\n",
    "            market.last_state.net_worth - market.initial_state.net_worth\n",
    "        ) / market.initial_state.net_worth"
   ]
  },
  {
   "cell_type": "code",
   "execution_count": null,
   "metadata": {},
   "outputs": [
    {
     "data": {
      "text/plain": [
       "nan"
      ]
     },
     "execution_count": 29,
     "metadata": {},
     "output_type": "execute_result"
    }
   ],
   "source": [
    "previous_gain"
   ]
  },
  {
   "cell_type": "code",
   "execution_count": null,
   "metadata": {},
   "outputs": [
    {
     "ename": "SyntaxError",
     "evalue": "invalid syntax (2594839310.py, line 1)",
     "output_type": "error",
     "traceback": [
      "\u001b[0;36m  Cell \u001b[0;32mIn[30], line 1\u001b[0;36m\u001b[0m\n\u001b[0;31m    market.initial_state.\u001b[0m\n\u001b[0m                         ^\u001b[0m\n\u001b[0;31mSyntaxError\u001b[0m\u001b[0;31m:\u001b[0m invalid syntax\n"
     ]
    }
   ],
   "source": [
    "market.initial_state."
   ]
  },
  {
   "cell_type": "code",
   "execution_count": null,
   "metadata": {},
   "outputs": [
    {
     "data": {
      "text/plain": [
       "nan"
      ]
     },
     "execution_count": 13,
     "metadata": {},
     "output_type": "execute_result"
    }
   ],
   "source": [
    "market.last_state.net_worth"
   ]
  },
  {
   "cell_type": "code",
   "execution_count": null,
   "metadata": {},
   "outputs": [
    {
     "data": {
      "text/plain": [
       "nan"
      ]
     },
     "execution_count": 14,
     "metadata": {},
     "output_type": "execute_result"
    }
   ],
   "source": [
    "market.initial_state.net_worth"
   ]
  },
  {
   "cell_type": "code",
   "execution_count": null,
   "metadata": {},
   "outputs": [
    {
     "data": {
      "text/plain": [
       "{'distribution': array([0.00990099, 0.00990099, 0.00990099, 0.00990099, 0.00990099,\n",
       "        0.00990099, 0.00990099, 0.00990099, 0.00990099, 0.00990099,\n",
       "        0.00990099, 0.00990099, 0.00990099, 0.00990099, 0.00990099,\n",
       "        0.00990099, 0.00990099, 0.00990099, 0.00990099, 0.00990099,\n",
       "        0.00990099, 0.00990099, 0.00990099, 0.00990099, 0.00990099,\n",
       "        0.00990099, 0.00990099, 0.00990099, 0.00990099, 0.00990099,\n",
       "        0.00990099, 0.00990099, 0.00990099, 0.00990099, 0.00990099,\n",
       "        0.00990099, 0.00990099, 0.00990099, 0.00990099, 0.00990099,\n",
       "        0.00990099, 0.00990099, 0.00990099, 0.00990099, 0.00990099,\n",
       "        0.00990099, 0.00990099, 0.00990099, 0.00990099, 0.00990099,\n",
       "        0.00990099, 0.00990099, 0.00990099, 0.00990099, 0.00990099,\n",
       "        0.00990099, 0.00990099, 0.00990099, 0.00990099, 0.00990099,\n",
       "        0.00990099, 0.00990099, 0.00990099, 0.00990099, 0.00990099,\n",
       "        0.00990099, 0.00990099, 0.00990099, 0.00990099, 0.00990099,\n",
       "        0.00990099, 0.00990099, 0.00990099, 0.00990099, 0.00990099,\n",
       "        0.00990099, 0.00990099, 0.00990099, 0.00990099, 0.00990099,\n",
       "        0.00990099, 0.00990099, 0.00990099, 0.00990099, 0.00990099,\n",
       "        0.00990099, 0.00990099, 0.00990099, 0.00990099, 0.00990099,\n",
       "        0.00990099, 0.00990099, 0.00990099, 0.00990099, 0.00990099,\n",
       "        0.00990099, 0.00990099, 0.00990099, 0.00990099, 0.00990099,\n",
       "        0.00990099])}"
      ]
     },
     "execution_count": 9,
     "metadata": {},
     "output_type": "execute_result"
    }
   ],
   "source": [
    "action"
   ]
  },
  {
   "cell_type": "code",
   "execution_count": null,
   "metadata": {},
   "outputs": [],
   "source": [
    "from portfolio_management_rl.market_environment.market_env import MarketEnvState\n",
    "import numpy as np"
   ]
  },
  {
   "cell_type": "code",
   "execution_count": null,
   "metadata": {},
   "outputs": [
    {
     "name": "stdout",
     "output_type": "stream",
     "text": [
      "-0.006757049566692874\n"
     ]
    }
   ],
   "source": [
    "\n",
    "history, _ = market.dataset[market.iteration]  # history, future_price_n_days\n",
    "\n",
    "# update the state\n",
    "market.last_state = market.current_state.copy()\n",
    "market.current_state = MarketEnvState(\n",
    "    history=history,\n",
    "    portfolio=market.last_state.portfolio.copy(),\n",
    "    done=False,\n",
    ")\n",
    "\n",
    "# execute the action\n",
    "delta_distribution = (\n",
    "    action[\"distribution\"][:-1] -  market.current_state.net_distribution[:-1]\n",
    ")\n",
    "\n",
    "# sell\n",
    "sell = np.zeros_like(delta_distribution)\n",
    "sell[delta_distribution < 0] = -delta_distribution[delta_distribution < 0]\n",
    "sell = (\n",
    "    market.current_state.net_worth * sell / market.current_state.prices\n",
    ")  # covert to quantity\n",
    "#market.broker.sell(market.current_state, sell)\n",
    "\n",
    "# buy\n",
    "buy = np.zeros_like(delta_distribution)\n",
    "buy[delta_distribution > 0] = delta_distribution[delta_distribution > 0]\n",
    "# normalize the buy vector to add up to 1\n",
    "# (because selling is alters the net worth   because of the transaction cost)\n",
    "buy /= np.sum(buy)\n",
    "buy =  (market.current_state.balance * buy / market.current_state.prices\n",
    ")  # covert to \n",
    "# truncate to  5 decimal places\n",
    "buy = np.trunc(buy * 100000) / 100000\n",
    "\n",
    "market.broker.buy(market.current_state, buy)\n",
    "\n",
    "# reward\n",
    "reward = market.get_reward()\n",
    "\n",
    "# Check if the episode has ended\n",
    "done = market.iteration == len(market.dataset) - 1\n",
    "\n",
    "if done:\n",
    "    market.current_state.done = True\n",
    "    reward = market.get_reward()\n",
    "\n",
    "market.iteration += 1\n",
    "print(reward)\n"
   ]
  },
  {
   "cell_type": "code",
   "execution_count": null,
   "metadata": {},
   "outputs": [],
   "source": [
    "market.iteration += 1\n"
   ]
  },
  {
   "cell_type": "code",
   "execution_count": null,
   "metadata": {},
   "outputs": [
    {
     "ename": "NameError",
     "evalue": "name 'done' is not defined",
     "output_type": "error",
     "traceback": [
      "\u001b[0;31m---------------------------------------------------------------------------\u001b[0m",
      "\u001b[0;31mNameError\u001b[0m                                 Traceback (most recent call last)",
      "Cell \u001b[0;32mIn[30], line 1\u001b[0m\n\u001b[0;32m----> 1\u001b[0m done\n",
      "\u001b[0;31mNameError\u001b[0m: name 'done' is not defined"
     ]
    }
   ],
   "source": []
  },
  {
   "cell_type": "code",
   "execution_count": null,
   "metadata": {},
   "outputs": [],
   "source": [
    "\n",
    "previous_gain = (\n",
    "    market.last_state.net_worth - market.initial_state.net_worth\n",
    ") / market.initial_state.net_worth\n",
    "\n",
    "# MAPE profit after the update\n",
    "next_gain = (\n",
    "    market.current_state.net_worth - market.initial_state.net_worth\n",
    ") / market.initial_state.net_worth\n",
    "\n",
    "        # Regularization term (avoid that much changes in the portfolio)\n",
    "        # regularization = np.mean(np.abs(next_state.portfolio_distribution - previous_state.portfolio_distribution))\n",
    "\n",
    "        # If the episode has ended, the reward is the profit\n",
    "\n"
   ]
  },
  {
   "cell_type": "code",
   "execution_count": null,
   "metadata": {},
   "outputs": [
    {
     "data": {
      "text/plain": [
       "array([4.64815515e-03, 3.90567957e-01, 1.83584885e-01, 1.16925350e-01,\n",
       "       0.00000000e+00, 5.22616835e-01, 2.39896551e-02, 9.91010943e-01,\n",
       "       0.00000000e+00, 1.11422105e+01, 1.23907346e+00, 3.52829381e-01,\n",
       "       4.62887523e-01, 1.39271959e-01, 4.46736719e-01, 1.97905176e+00,\n",
       "       3.93367461e-01, 8.22519009e-02, 1.76149522e-02, 1.28913480e-01,\n",
       "       1.09246485e-01, 8.67502614e-02, 2.02952727e-01, 1.13706849e-01,\n",
       "       2.21208727e-01, 4.07814980e-02, 0.00000000e+00, 2.01626633e-01,\n",
       "       1.30276974e-01, 3.52024849e-02, 0.00000000e+00, 3.69521258e-02,\n",
       "       5.00379418e-02, 2.51932037e-02, 1.92344476e+00, 5.48442306e-01,\n",
       "       9.68220053e-02, 0.00000000e+00, 0.00000000e+00, 0.00000000e+00,\n",
       "       2.68657632e-01, 1.58626326e-01, 1.18644364e-01, 2.66817396e-01,\n",
       "       6.10832247e-02, 1.76626691e-01, 1.12497119e-01, 1.14786074e-01,\n",
       "       4.11373474e-01, 4.04833449e-01, 4.18816663e-02, 0.00000000e+00,\n",
       "       1.08165038e-02, 6.15066724e-02, 3.25219886e-01, 1.72189487e-01,\n",
       "       0.00000000e+00, 3.33048809e-01, 1.25624911e-02, 0.00000000e+00,\n",
       "       2.14199033e-01, 6.96370445e-02, 3.12483607e-01, 0.00000000e+00,\n",
       "       9.57765309e-03, 4.12437042e+00, 0.00000000e+00, 4.05525340e-02,\n",
       "       2.21931974e+00, 3.58346781e-03, 1.23514161e-01, 1.90991041e-01,\n",
       "       0.00000000e+00, 2.45345951e-02, 0.00000000e+00, 0.00000000e+00,\n",
       "       2.07631946e-01, 5.01982700e-01, 4.42195433e+00, 7.79280480e-02,\n",
       "       4.40036022e-02, 1.18786053e-01, 2.70590931e-02, 1.30302408e-01,\n",
       "       1.91219276e-01, 1.52658988e-01, 1.44149098e-01, 1.28726537e-01,\n",
       "       8.70145454e-03, 1.02581603e+00, 1.50936021e-02, 1.06768353e-01,\n",
       "       1.10189860e+00, 7.79317600e-01, 8.13090024e-01, 1.40905754e+01,\n",
       "       0.00000000e+00, 2.26144680e-01, 2.37311327e-01, 0.00000000e+00])"
      ]
     },
     "execution_count": 35,
     "metadata": {},
     "output_type": "execute_result"
    }
   ],
   "source": [
    "sell"
   ]
  },
  {
   "cell_type": "code",
   "execution_count": null,
   "metadata": {},
   "outputs": [
    {
     "data": {
      "text/plain": [
       "10082.358409400756"
      ]
     },
     "execution_count": 31,
     "metadata": {},
     "output_type": "execute_result"
    }
   ],
   "source": [
    "market.current_state.net_worth"
   ]
  },
  {
   "cell_type": "code",
   "execution_count": null,
   "metadata": {},
   "outputs": [],
   "source": [
    "market."
   ]
  },
  {
   "cell_type": "code",
   "execution_count": null,
   "metadata": {},
   "outputs": [
    {
     "data": {
      "text/plain": [
       "array([  9.36482,  28.45472,  16.18278,  17.48185,   9.17631,  81.50709,\n",
       "        13.73434,  28.29707,   0.68275, 247.82295,  51.60111,  16.99488,\n",
       "        15.90938,  79.73834,  18.45461,  36.11834,  24.49506,  16.62807,\n",
       "        10.08876,  17.90137,  62.54608,  11.25757,  31.54504,  24.99095,\n",
       "        17.56005,  23.35071,   5.15268,  19.93975,  14.7595 ,  20.15385,\n",
       "        25.68713,  21.16076,  28.65085,  14.42782, 101.45793,  22.3363 ,\n",
       "        14.66197,  28.63403,  10.00035,  23.34886,  15.65355,  12.94459,\n",
       "        33.76807,  31.75552,  13.30745,  15.1873 ,  17.75735,  11.87138,\n",
       "        36.40921,  17.9582 ,   9.71051,  37.63379,  21.51444,   5.46559,\n",
       "        17.89758,  12.763  ,  14.36257,  23.4137 ,   7.19288,  12.38814,\n",
       "        17.04408,   9.71058,  16.86869,  14.05844,   5.48742,  69.79513,\n",
       "        12.50044,  23.22066,  82.55778,   5.48716,   8.9516 ,  16.38774,\n",
       "        20.32894,   6.95299,   9.0511 ,  79.17737,  12.86811,  15.08812,\n",
       "       114.8805 ,  44.61465,  14.08819,  17.76112,  15.49175,  24.05405,\n",
       "        12.60964,  19.02147,   5.06054,  11.95625,   4.98535,  66.11385,\n",
       "        47.97691,  10.40602,  17.10569,  25.28402,  34.2118 , 238.34988,\n",
       "        74.82513,  20.97784,  10.49783,  14.96305])"
      ]
     },
     "execution_count": 20,
     "metadata": {},
     "output_type": "execute_result"
    }
   ],
   "source": [
    "b"
   ]
  },
  {
   "cell_type": "code",
   "execution_count": null,
   "metadata": {},
   "outputs": [
    {
     "data": {
      "text/plain": [
       "array([0.00990099, 0.00990099, 0.00990099, 0.00990099, 0.00990099,\n",
       "       0.00990099, 0.00990099, 0.00990099, 0.00990099, 0.00990099,\n",
       "       0.00990099, 0.00990099, 0.00990099, 0.00990099, 0.00990099,\n",
       "       0.00990099, 0.00990099, 0.00990099, 0.00990099, 0.00990099,\n",
       "       0.00990099, 0.00990099, 0.00990099, 0.00990099, 0.00990099,\n",
       "       0.00990099, 0.00990099, 0.00990099, 0.00990099, 0.00990099,\n",
       "       0.00990099, 0.00990099, 0.00990099, 0.00990099, 0.00990099,\n",
       "       0.00990099, 0.00990099, 0.00990099, 0.00990099, 0.00990099,\n",
       "       0.00990099, 0.00990099, 0.00990099, 0.00990099, 0.00990099,\n",
       "       0.00990099, 0.00990099, 0.00990099, 0.00990099, 0.00990099,\n",
       "       0.00990099, 0.00990099, 0.00990099, 0.00990099, 0.00990099,\n",
       "       0.00990099, 0.00990099, 0.00990099, 0.00990099, 0.00990099,\n",
       "       0.00990099, 0.00990099, 0.00990099, 0.00990099, 0.00990099,\n",
       "       0.00990099, 0.00990099, 0.00990099, 0.00990099, 0.00990099,\n",
       "       0.00990099, 0.00990099, 0.00990099, 0.00990099, 0.00990099,\n",
       "       0.00990099, 0.00990099, 0.00990099, 0.00990099, 0.00990099,\n",
       "       0.00990099, 0.00990099, 0.00990099, 0.00990099, 0.00990099,\n",
       "       0.00990099, 0.00990099, 0.00990099, 0.00990099, 0.00990099,\n",
       "       0.00990099, 0.00990099, 0.00990099, 0.00990099, 0.00990099,\n",
       "       0.00990099, 0.00990099, 0.00990099, 0.00990099, 0.00990099])"
      ]
     },
     "execution_count": 19,
     "metadata": {},
     "output_type": "execute_result"
    }
   ],
   "source": [
    "delta_distribution"
   ]
  },
  {
   "cell_type": "code",
   "execution_count": null,
   "metadata": {},
   "outputs": [
    {
     "data": {
      "text/plain": [
       "array([ 10.67825222,   3.51435447,   6.17940617,   5.7202177 ,\n",
       "        10.89761925,   1.22688699,   7.28101969,   3.53393364,\n",
       "       146.46446228,   0.40351388,   1.9379425 ,   5.88412189,\n",
       "         6.28559637,   1.25410175,   5.41869831,   2.76867652,\n",
       "         4.08245564,   6.0139246 ,   9.91201401,   5.586164  ,\n",
       "         1.59882116,   8.88290596,   3.17006993,   4.0014472 ,\n",
       "         5.69474459,   4.28252411,  19.40734863,   5.0151062 ,\n",
       "         6.77529669,   4.96183109,   3.8929987 ,   4.72572613,\n",
       "         3.49029708,   6.9310503 ,   0.98563015,   4.47701645,\n",
       "         6.82036304,   3.492347  ,   9.99964333,   4.28286362,\n",
       "         6.38832426,   7.72523355,   2.96137714,   3.14905858,\n",
       "         7.51458549,   6.584445  ,   5.6314702 ,   8.42361546,\n",
       "         2.74655771,   5.56848431,  10.29811668,   2.65718627,\n",
       "         4.64803934,  18.29628372,   5.58734608,   7.83514833,\n",
       "         6.96254206,   4.27100325,  13.90263462,   8.07223511,\n",
       "         5.86713791,  10.29803562,   5.92814207,   7.11316252,\n",
       "        18.22347641,   1.43276465,   7.99971533,   4.30650854,\n",
       "         1.21127284,  18.22433662,  11.17118263,   6.10212135,\n",
       "         4.91909361,  14.38229561,  11.0483799 ,   1.26298714,\n",
       "         7.77114439,   6.62772942,   0.87046969,   2.24141622,\n",
       "         7.09814215,   5.63027334,   6.45504856,   4.15730381,\n",
       "         7.93043852,   5.25721645,  19.76072121,   8.36382103,\n",
       "        20.05874634,   1.51254237,   2.08433557,   9.60981846,\n",
       "         5.84600735,   3.95506716,   2.92296743,   0.41955128,\n",
       "         1.33644927,   4.76693487,   9.525774  ,   6.68312597])"
      ]
     },
     "execution_count": 18,
     "metadata": {},
     "output_type": "execute_result"
    }
   ],
   "source": [
    "market.current_state.prices"
   ]
  },
  {
   "cell_type": "code",
   "execution_count": null,
   "metadata": {},
   "outputs": [
    {
     "data": {
      "text/plain": [
       "9999.99554361274"
      ]
     },
     "execution_count": 32,
     "metadata": {},
     "output_type": "execute_result"
    }
   ],
   "source": [
    "np.sum(buy * market.current_state.prices)"
   ]
  },
  {
   "cell_type": "code",
   "execution_count": null,
   "metadata": {},
   "outputs": [
    {
     "data": {
      "text/plain": [
       "10000.0"
      ]
     },
     "execution_count": 34,
     "metadata": {},
     "output_type": "execute_result"
    }
   ],
   "source": [
    "market.last_state.net_worth"
   ]
  },
  {
   "cell_type": "code",
   "execution_count": null,
   "metadata": {},
   "outputs": [
    {
     "data": {
      "text/plain": [
       "array([0.00990099, 0.00990099, 0.00990099, 0.00990099, 0.00990099,\n",
       "       0.00990099, 0.00990099, 0.00990099, 0.00990099, 0.00990099,\n",
       "       0.00990099, 0.00990099, 0.00990099, 0.00990099, 0.00990099,\n",
       "       0.00990099, 0.00990099, 0.00990099, 0.00990099, 0.00990099,\n",
       "       0.00990099, 0.00990099, 0.00990099, 0.00990099, 0.00990099,\n",
       "       0.00990099, 0.00990099, 0.00990099, 0.00990099, 0.00990099,\n",
       "       0.00990099, 0.00990099, 0.00990099, 0.00990099, 0.00990099,\n",
       "       0.00990099, 0.00990099, 0.00990099, 0.00990099, 0.00990099,\n",
       "       0.00990099, 0.00990099, 0.00990099, 0.00990099, 0.00990099,\n",
       "       0.00990099, 0.00990099, 0.00990099, 0.00990099, 0.00990099,\n",
       "       0.00990099, 0.00990099, 0.00990099, 0.00990099, 0.00990099,\n",
       "       0.00990099, 0.00990099, 0.00990099, 0.00990099, 0.00990099,\n",
       "       0.00990099, 0.00990099, 0.00990099, 0.00990099, 0.00990099,\n",
       "       0.00990099, 0.00990099, 0.00990099, 0.00990099, 0.00990099,\n",
       "       0.00990099, 0.00990099, 0.00990099, 0.00990099, 0.00990099,\n",
       "       0.00990099, 0.00990099, 0.00990099, 0.00990099, 0.00990099,\n",
       "       0.00990099, 0.00990099, 0.00990099, 0.00990099, 0.00990099,\n",
       "       0.00990099, 0.00990099, 0.00990099, 0.00990099, 0.00990099,\n",
       "       0.00990099, 0.00990099, 0.00990099, 0.00990099, 0.00990099,\n",
       "       0.00990099, 0.00990099, 0.00990099, 0.00990099, 0.00990099])"
      ]
     },
     "execution_count": 22,
     "metadata": {},
     "output_type": "execute_result"
    }
   ],
   "source": [
    "delta_distribution"
   ]
  },
  {
   "cell_type": "code",
   "execution_count": null,
   "metadata": {},
   "outputs": [],
   "source": [
    "market.current_state.portfolio = market.last_state.portfolio.copy()"
   ]
  },
  {
   "cell_type": "code",
   "execution_count": null,
   "metadata": {},
   "outputs": [
    {
     "data": {
      "text/plain": [
       "array([0., 0., 0., 0., 0., 0., 0., 0., 0., 0., 0., 0., 0., 0., 0., 0., 0.,\n",
       "       0., 0., 0., 0., 0., 0., 0., 0., 0., 0., 0., 0., 0., 0., 0., 0., 0.,\n",
       "       0., 0., 0., 0., 0., 0., 0., 0., 0., 0., 0., 0., 0., 0., 0., 0., 0.,\n",
       "       0., 0., 0., 0., 0., 0., 0., 0., 0., 0., 0., 0., 0., 0., 0., 0., 0.,\n",
       "       0., 0., 0., 0., 0., 0., 0., 0., 0., 0., 0., 0., 0., 0., 0., 0., 0.,\n",
       "       0., 0., 0., 0., 0., 0., 0., 0., 0., 0., 0., 0., 0., 0., 0.])"
      ]
     },
     "execution_count": 9,
     "metadata": {},
     "output_type": "execute_result"
    }
   ],
   "source": [
    "state.prices"
   ]
  },
  {
   "cell_type": "code",
   "execution_count": null,
   "metadata": {},
   "outputs": [
    {
     "data": {
      "text/plain": [
       "array([nan, nan, nan, nan, nan, nan, nan, nan, nan, nan, nan, nan, nan,\n",
       "       nan, nan, nan, nan, nan, nan, nan, nan, nan, nan, nan, nan, nan,\n",
       "       nan, nan, nan, nan, nan, nan, nan, nan, nan, nan, nan, nan, nan,\n",
       "       nan, nan, nan, nan, nan, nan, nan, nan, nan, nan, nan, nan, nan,\n",
       "       nan, nan, nan, nan, nan, nan, nan, nan, nan, nan, nan, nan, nan,\n",
       "       nan, nan, nan, nan, nan, nan, nan, nan, nan, nan, nan, nan, nan,\n",
       "       nan, nan, nan, nan, nan, nan, nan, nan, nan, nan, nan, nan, nan,\n",
       "       nan, nan, nan, nan, nan, nan, nan, nan, nan])"
      ]
     },
     "execution_count": 112,
     "metadata": {},
     "output_type": "execute_result"
    }
   ],
   "source": [
    "market.current_state.net_distribution[:-1] - action[\"distribution\"][:-1]"
   ]
  },
  {
   "cell_type": "code",
   "execution_count": null,
   "metadata": {},
   "outputs": [
    {
     "data": {
      "text/plain": [
       "array([ 10.66490364,   3.55704069,   6.23939705,   5.7486763 ,\n",
       "        10.80925846,   1.23264778,   7.28101969,   3.65579414,\n",
       "       145.17115784,   0.42177209,   1.98215437,   5.99837923,\n",
       "         6.46265364,   1.25410175,   5.54342699,   2.92406011,\n",
       "         4.14183903,   6.03326654,   9.91201401,   5.6168561 ,\n",
       "         1.59882116,   8.93625832,   3.18502498,   4.01271677,\n",
       "         5.75732422,   4.28252411,  19.18928909,   5.05748844,\n",
       "         6.82369328,   4.96183109,   3.86825824,   4.72572613,\n",
       "         3.49029708,   6.9310503 ,   1.00292206,   4.58169556,\n",
       "         6.85371208,   3.39350986,   9.87694836,   4.24636316,\n",
       "         6.48852968,   7.80741549,   2.96662807,   3.1701951 ,\n",
       "         7.53605366,   6.65029001,   5.65747595,   8.4910078 ,\n",
       "         2.77309251,   5.68696213,  10.32466316,   2.60689354,\n",
       "         4.64225626,  18.47220421,   5.68081522,   7.9284277 ,\n",
       "         6.78105164,   4.32506561,          nan,   7.98287249,\n",
       "         5.93143415,  10.35431194,   6.02948093,   7.09728146,\n",
       "                nan,   1.52008796,   7.85964346,   4.30650854,\n",
       "         1.24255967,  18.20442009,  11.30769825,   6.16329432,\n",
       "         4.90201521,  14.40802097,  10.83636284,   1.25129318,\n",
       "         7.88479948,   6.84384966,   0.9037357 ,   2.24141622,\n",
       "         7.10794687,   5.65828371,   6.45504856,   4.17264605,\n",
       "         8.03848839,   5.29049397,  20.30459595,   8.44008732,\n",
       "        20.05874634,   1.53369713,   2.08135009,   9.6924839 ,\n",
       "         6.23760509,   4.07372141,   2.9888978 ,   0.44513351,\n",
       "         1.32767677,   4.81046629,   9.72907257,   6.56161404])"
      ]
     },
     "execution_count": 113,
     "metadata": {},
     "output_type": "execute_result"
    }
   ],
   "source": [
    "market.current_state.prices"
   ]
  },
  {
   "cell_type": "code",
   "execution_count": null,
   "metadata": {},
   "outputs": [
    {
     "data": {
      "text/plain": [
       "array([nan, nan, nan, nan, nan, nan, nan, nan, nan, nan, nan, nan, nan,\n",
       "       nan, nan, nan, nan, nan, nan, nan, nan, nan, nan, nan, nan, nan,\n",
       "       nan, nan, nan, nan, nan, nan, nan, nan, nan, nan, nan, nan, nan,\n",
       "       nan, nan, nan, nan, nan, nan, nan, nan, nan, nan, nan, nan, nan,\n",
       "       nan, nan, nan, nan, nan, nan, nan, nan, nan, nan, nan, nan, nan,\n",
       "       nan, nan, nan, nan, nan, nan, nan, nan, nan, nan, nan, nan, nan,\n",
       "       nan, nan, nan, nan, nan, nan, nan, nan, nan, nan, nan, nan, nan,\n",
       "       nan, nan, nan, nan, nan, nan, nan, nan, nan, nan])"
      ]
     },
     "execution_count": 114,
     "metadata": {},
     "output_type": "execute_result"
    }
   ],
   "source": [
    "market.last_state.portfolio"
   ]
  },
  {
   "cell_type": "code",
   "execution_count": null,
   "metadata": {},
   "outputs": [
    {
     "data": {
      "text/plain": [
       "MarketEnvState(history=array([[ 7.82781744,  7.88793516,  7.75566912, ..., 10.7583456 ,\n",
       "        10.67825222, 10.66490364],\n",
       "       [ 1.86194599,  1.85859704,  1.83850431, ...,  3.42898679,\n",
       "         3.51435447,  3.55704069],\n",
       "       [ 4.70886803,  4.68327618,  4.47854185, ...,  6.17940617,\n",
       "         6.17940617,  6.23939705],\n",
       "       ...,\n",
       "       [ 4.23246861,  4.35058546,  4.29152775, ...,  4.76693487,\n",
       "         4.76693487,  4.81046629],\n",
       "       [ 4.72450018,  4.67808771,  4.61311579, ...,  9.40960979,\n",
       "         9.525774  ,  9.72907257],\n",
       "       [ 5.20288324,  5.20288324,  5.24099874, ...,  6.72362709,\n",
       "         6.68312597,  6.56161404]]), portfolio=array([nan, nan, nan, nan, nan, nan, nan, nan, nan, nan, nan, nan, nan,\n",
       "       nan, nan, nan, nan, nan, nan, nan, nan, nan, nan, nan, nan, nan,\n",
       "       nan, nan, nan, nan, nan, nan, nan, nan, nan, nan, nan, nan, nan,\n",
       "       nan, nan, nan, nan, nan, nan, nan, nan, nan, nan, nan, nan, nan,\n",
       "       nan, nan, nan, nan, nan, nan, nan, nan, nan, nan, nan, nan, nan,\n",
       "       nan, nan, nan, nan, nan, nan, nan, nan, nan, nan, nan, nan, nan,\n",
       "       nan, nan, nan, nan, nan, nan, nan, nan, nan, nan, nan, nan, nan,\n",
       "       nan, nan, nan, nan, nan, nan, nan, nan, nan, nan]), done=False)"
      ]
     },
     "execution_count": 115,
     "metadata": {},
     "output_type": "execute_result"
    }
   ],
   "source": [
    "market.current_state"
   ]
  },
  {
   "cell_type": "code",
   "execution_count": null,
   "metadata": {},
   "outputs": [],
   "source": [
    "action = agent.action(state)"
   ]
  },
  {
   "cell_type": "code",
   "execution_count": null,
   "metadata": {},
   "outputs": [
    {
     "data": {
      "text/plain": [
       "{'distribution': array([0.00990099, 0.00990099, 0.00990099, 0.00990099, 0.00990099,\n",
       "        0.00990099, 0.00990099, 0.00990099, 0.00990099, 0.00990099,\n",
       "        0.00990099, 0.00990099, 0.00990099, 0.00990099, 0.00990099,\n",
       "        0.00990099, 0.00990099, 0.00990099, 0.00990099, 0.00990099,\n",
       "        0.00990099, 0.00990099, 0.00990099, 0.00990099, 0.00990099,\n",
       "        0.00990099, 0.00990099, 0.00990099, 0.00990099, 0.00990099,\n",
       "        0.00990099, 0.00990099, 0.00990099, 0.00990099, 0.00990099,\n",
       "        0.00990099, 0.00990099, 0.00990099, 0.00990099, 0.00990099,\n",
       "        0.00990099, 0.00990099, 0.00990099, 0.00990099, 0.00990099,\n",
       "        0.00990099, 0.00990099, 0.00990099, 0.00990099, 0.00990099,\n",
       "        0.00990099, 0.00990099, 0.00990099, 0.00990099, 0.00990099,\n",
       "        0.00990099, 0.00990099, 0.00990099, 0.00990099, 0.00990099,\n",
       "        0.00990099, 0.00990099, 0.00990099, 0.00990099, 0.00990099,\n",
       "        0.00990099, 0.00990099, 0.00990099, 0.00990099, 0.00990099,\n",
       "        0.00990099, 0.00990099, 0.00990099, 0.00990099, 0.00990099,\n",
       "        0.00990099, 0.00990099, 0.00990099, 0.00990099, 0.00990099,\n",
       "        0.00990099, 0.00990099, 0.00990099, 0.00990099, 0.00990099,\n",
       "        0.00990099, 0.00990099, 0.00990099, 0.00990099, 0.00990099,\n",
       "        0.00990099, 0.00990099, 0.00990099, 0.00990099, 0.00990099,\n",
       "        0.00990099, 0.00990099, 0.00990099, 0.00990099, 0.00990099,\n",
       "        0.00990099])}"
      ]
     },
     "execution_count": 117,
     "metadata": {},
     "output_type": "execute_result"
    }
   ],
   "source": [
    "action"
   ]
  },
  {
   "cell_type": "code",
   "execution_count": null,
   "metadata": {},
   "outputs": [],
   "source": [
    "import numpy as np\n",
    "\n",
    "portfolio = np.zeros(shape=(101,))\n",
    "portfolio[-1] = 1000"
   ]
  },
  {
   "cell_type": "code",
   "execution_count": null,
   "metadata": {},
   "outputs": [
    {
     "data": {
      "text/plain": [
       "array([nan, nan, nan, nan, nan, nan, nan, nan, nan, nan, nan, nan, nan,\n",
       "       nan, nan, nan, nan, nan, nan, nan, nan, nan, nan, nan, nan, nan,\n",
       "       nan, nan, nan, nan, nan, nan, nan, nan, nan, nan, nan, nan, nan,\n",
       "       nan, nan, nan, nan, nan, nan, nan, nan, nan, nan, nan, nan, nan,\n",
       "       nan, nan, nan, nan, nan, nan, nan, nan, nan, nan, nan, nan, nan,\n",
       "       nan, nan, nan, nan, nan, nan, nan, nan, nan, nan, nan, nan, nan,\n",
       "       nan, nan, nan, nan, nan, nan, nan, nan, nan, nan, nan, nan, nan,\n",
       "       nan, nan, nan, nan, nan, nan, nan, nan, nan, nan])"
      ]
     },
     "execution_count": 119,
     "metadata": {},
     "output_type": "execute_result"
    }
   ],
   "source": [
    "state.portfolio"
   ]
  },
  {
   "cell_type": "code",
   "execution_count": null,
   "metadata": {},
   "outputs": [
    {
     "data": {
      "text/plain": [
       "array([nan, nan, nan, nan, nan, nan, nan, nan, nan, nan, nan, nan, nan,\n",
       "       nan, nan, nan, nan, nan, nan, nan, nan, nan, nan, nan, nan, nan,\n",
       "       nan, nan, nan, nan, nan, nan, nan, nan, nan, nan, nan, nan, nan,\n",
       "       nan, nan, nan, nan, nan, nan, nan, nan, nan, nan, nan, nan, nan,\n",
       "       nan, nan, nan, nan, nan, nan, nan, nan, nan, nan, nan, nan, nan,\n",
       "       nan, nan, nan, nan, nan, nan, nan, nan, nan, nan, nan, nan, nan,\n",
       "       nan, nan, nan, nan, nan, nan, nan, nan, nan, nan, nan, nan, nan,\n",
       "       nan, nan, nan, nan, nan, nan, nan, nan, nan, nan])"
      ]
     },
     "execution_count": 120,
     "metadata": {},
     "output_type": "execute_result"
    }
   ],
   "source": [
    "state.net_distribution"
   ]
  },
  {
   "cell_type": "code",
   "execution_count": null,
   "metadata": {},
   "outputs": [
    {
     "data": {
      "text/plain": [
       "nan"
      ]
     },
     "execution_count": 121,
     "metadata": {},
     "output_type": "execute_result"
    }
   ],
   "source": [
    "state = market.reset()\n",
    "state.net_worth"
   ]
  },
  {
   "cell_type": "code",
   "execution_count": null,
   "metadata": {},
   "outputs": [
    {
     "data": {
      "text/plain": [
       "nan"
      ]
     },
     "execution_count": 122,
     "metadata": {},
     "output_type": "execute_result"
    }
   ],
   "source": [
    "state.investment"
   ]
  },
  {
   "cell_type": "code",
   "execution_count": null,
   "metadata": {},
   "outputs": [
    {
     "data": {
      "text/plain": [
       "array([nan, nan, nan, nan, nan, nan, nan, nan, nan, nan, nan, nan, nan,\n",
       "       nan, nan, nan, nan, nan, nan, nan, nan, nan, nan, nan, nan, nan,\n",
       "       nan, nan, nan, nan, nan, nan, nan, nan, nan, nan, nan, nan, nan,\n",
       "       nan, nan, nan, nan, nan, nan, nan, nan, nan, nan, nan, nan, nan,\n",
       "       nan, nan, nan, nan, nan, nan, nan, nan, nan, nan, nan, nan, nan,\n",
       "       nan, nan, nan, nan, nan, nan, nan, nan, nan, nan, nan, nan, nan,\n",
       "       nan, nan, nan, nan, nan, nan, nan, nan, nan, nan, nan, nan, nan,\n",
       "       nan, nan, nan, nan, nan, nan, nan, nan, nan, nan])"
      ]
     },
     "execution_count": 123,
     "metadata": {},
     "output_type": "execute_result"
    }
   ],
   "source": [
    "state.portfolio"
   ]
  },
  {
   "cell_type": "code",
   "execution_count": null,
   "metadata": {},
   "outputs": [
    {
     "ename": "SyntaxError",
     "evalue": "invalid syntax (176500709.py, line 1)",
     "output_type": "error",
     "traceback": [
      "\u001b[0;36m  Cell \u001b[0;32mIn[124], line 1\u001b[0;36m\u001b[0m\n\u001b[0;31m    state.\u001b[0m\n\u001b[0m          ^\u001b[0m\n\u001b[0;31mSyntaxError\u001b[0m\u001b[0;31m:\u001b[0m invalid syntax\n"
     ]
    }
   ],
   "source": [
    "state."
   ]
  },
  {
   "cell_type": "code",
   "execution_count": null,
   "metadata": {},
   "outputs": [
    {
     "data": {
      "text/plain": [
       "10000.0"
      ]
     },
     "execution_count": 9,
     "metadata": {},
     "output_type": "execute_result"
    }
   ],
   "source": [
    "state.net_worth\n"
   ]
  },
  {
   "cell_type": "code",
   "execution_count": null,
   "metadata": {},
   "outputs": [
    {
     "data": {
      "text/plain": [
       "(1, 101)"
      ]
     },
     "execution_count": 10,
     "metadata": {},
     "output_type": "execute_result"
    }
   ],
   "source": [
    "action[\"distribution\"].shape\n"
   ]
  },
  {
   "cell_type": "code",
   "execution_count": null,
   "metadata": {},
   "outputs": [
    {
     "data": {
      "text/plain": [
       "(1, 101)"
      ]
     },
     "execution_count": 13,
     "metadata": {},
     "output_type": "execute_result"
    }
   ],
   "source": [
    "action[\"distribution\"].shape"
   ]
  },
  {
   "cell_type": "code",
   "execution_count": null,
   "metadata": {},
   "outputs": [
    {
     "data": {
      "text/plain": [
       "(10001,)"
      ]
     },
     "execution_count": 15,
     "metadata": {},
     "output_type": "execute_result"
    }
   ],
   "source": [
    "state.net_distribution.shape"
   ]
  },
  {
   "cell_type": "code",
   "execution_count": null,
   "metadata": {},
   "outputs": [
    {
     "data": {
      "text/plain": [
       "(101,)"
      ]
     },
     "execution_count": 12,
     "metadata": {},
     "output_type": "execute_result"
    }
   ],
   "source": [
    "state.net_distribution.shape"
   ]
  },
  {
   "cell_type": "code",
   "execution_count": null,
   "metadata": {},
   "outputs": [
    {
     "data": {
      "text/plain": [
       "(100,)"
      ]
     },
     "execution_count": 14,
     "metadata": {},
     "output_type": "execute_result"
    }
   ],
   "source": [
    "state.net_distribution[:-1].shape"
   ]
  },
  {
   "cell_type": "code",
   "execution_count": null,
   "metadata": {},
   "outputs": [],
   "source": [
    "  if self.rebalance:\n",
    "            return {\"distribution\": self.weights}\n",
    "\n",
    "        if self.include_balance:\n",
    "            return {\"distribution\": state.net_distribution}\n",
    "\n",
    "        return {\"distribution\": state.net_distribution[:-1]}\n"
   ]
  },
  {
   "cell_type": "code",
   "execution_count": null,
   "metadata": {},
   "outputs": [
    {
     "ename": "SyntaxError",
     "evalue": "incomplete input (740729775.py, line 20)",
     "output_type": "error",
     "traceback": [
      "\u001b[0;36m  Cell \u001b[0;32mIn[6], line 20\u001b[0;36m\u001b[0m\n\u001b[0;31m    \u001b[0m\n\u001b[0m    ^\u001b[0m\n\u001b[0;31mSyntaxError\u001b[0m\u001b[0;31m:\u001b[0m incomplete input\n"
     ]
    }
   ],
   "source": [
    "\n",
    "class Backtester():\n",
    "    \"\"\"\n",
    "    Backtester class for backtesting trading strategies. \n",
    "    \"\"\"\n",
    "\n",
    "    def __init__(self, market_env: MarketEnv, agents: List[BaseAgent], initial_balance: float = 10000):\n",
    "        \"\"\"\n",
    "        Backtester class for backtesting trading strategies. \n",
    "\n",
    "        Args:\n",
    "            market_env: Market environment.\n",
    "            agents: List of agents to backtest.\n",
    "            initial_balance: Initial balance of the portfolio.\n",
    "        \"\"\"\n",
    "        self.market_env = market_env\n",
    "        self.agents = agents\n",
    "        self.initial_balance = initial_balance\n",
    "    \n",
    "    def backtest(self, verbose: bool = False) -> pd.DataFrame:\n",
    "        "
   ]
  },
  {
   "cell_type": "code",
   "execution_count": null,
   "metadata": {},
   "outputs": [],
   "source": [
    "\"\"\"\n",
    "This module emulates the market. It offers an interface to the agent to get the current state\n",
    "of the market and to execute actions on the market.\n",
    "\"\"\"\n",
    "\n",
    "import datetime\n",
    "from dataclasses import asdict, dataclass, field\n",
    "from enum import Enum\n",
    "from logging import getLogger\n",
    "from pathlib import Path\n",
    "from tabnanny import verbose\n",
    "from typing import Any, Optional, Tuple\n",
    "\n",
    "import gym\n",
    "import numpy as np\n",
    "import pandas as pd\n",
    "from torch.utils.data import Dataset\n",
    "\n",
    "from portfolio_management_rl.datasets.utils import PortfolioDistributionSpace\n",
    "\n",
    "\n",
    "@dataclass(slots=True)\n",
    "class MarketEnvState:\n",
    "    \"\"\"\n",
    "    State of the market environment.\n",
    "\n",
    "    Attributes:\n",
    "        balance (float): Current balance (in the base currency)\n",
    "        history (np.ndarray): History of the market (in the base currency).\n",
    "        portfolio (np.ndarray): Quantity of stocks.\n",
    "        done (bool): Whether the episode is done or not.\n",
    "    \"\"\"\n",
    "\n",
    "    balance: float\n",
    "    history: np.ndarray\n",
    "    portfolio: np.ndarray\n",
    "    done: bool = False\n",
    "\n",
    "    def __iter__(self):\n",
    "        \"\"\"\n",
    "        Iterates over the state. This is useful to convert the state to a dictionary.\n",
    "        \"\"\"\n",
    "        return iter(asdict(self).items())\n",
    "\n",
    "    def copy(self):\n",
    "        \"\"\"\n",
    "        Returns a copy of the state.\n",
    "        \"\"\"\n",
    "        return MarketEnvState(**asdict(self))\n",
    "\n",
    "    @staticmethod\n",
    "    def from_dict(state_dict: dict):\n",
    "        \"\"\"\n",
    "        Creates a state from a dictionary.\n",
    "\n",
    "        Args:\n",
    "            state_dict (dict): Dictionary containing the state.\n",
    "\n",
    "        Returns:\n",
    "            MarketEnvState: State of the market environment.\n",
    "        \"\"\"\n",
    "        return MarketEnvState(**state_dict)\n",
    "\n",
    "    @property\n",
    "    def prices(self) -> np.ndarray:\n",
    "        \"\"\"\n",
    "        Returns the prices of the market.\n",
    "\n",
    "        Returns:\n",
    "            np.ndarray: Prices of the market.\n",
    "        \"\"\"\n",
    "        return self.history[:, -1]\n",
    "\n",
    "    @property\n",
    "    def investment(self) -> float:\n",
    "        \"\"\"\n",
    "        Returns the investment of the portfolio.\n",
    "\n",
    "        Returns:\n",
    "            float: Investment of the portfolio.\n",
    "        \"\"\"\n",
    "        return self.portfolio.dot(self.prices)\n",
    "\n",
    "    @property\n",
    "    def net_worth(self) -> float:\n",
    "        \"\"\"\n",
    "        Returns the net worth of the portfolio.\n",
    "\n",
    "        Returns:\n",
    "            float: Net worth of the portfolio.\n",
    "        \"\"\"\n",
    "        return self.balance + self.investment\n",
    "\n",
    "    @property\n",
    "    def net_distribution(self) -> np.ndarray:\n",
    "        \"\"\"\n",
    "        Returns the distribution of the portfolio (including the balance).\n",
    "\n",
    "        Returns:\n",
    "            np.ndarray: Distribution of the portfolio (including the balance)\n",
    "        \"\"\"\n",
    "\n",
    "        temp = self.portfolio * self.prices\n",
    "        # expand the array to include the balance\n",
    "        new = np.zeros(shape=(temp.shape[0] + 1,))\n",
    "        new[:-1] = temp\n",
    "        new[-1] = self.balance\n",
    "        return new / self.net_worth"
   ]
  },
  {
   "cell_type": "code",
   "execution_count": null,
   "metadata": {},
   "outputs": [],
   "source": [
    "portfolio = np.zeros(shape=(100,))\n",
    "balance = 1000\n",
    "state = MarketEnvState(balance=balance, portfolio=portfolio, history=np.ones(shape=(100, 700)))"
   ]
  },
  {
   "cell_type": "code",
   "execution_count": null,
   "metadata": {},
   "outputs": [
    {
     "data": {
      "text/plain": [
       "array([0., 0., 0., 0., 0., 0., 0., 0., 0., 0., 0., 0., 0., 0., 0., 0., 0.,\n",
       "       0., 0., 0., 0., 0., 0., 0., 0., 0., 0., 0., 0., 0., 0., 0., 0., 0.,\n",
       "       0., 0., 0., 0., 0., 0., 0., 0., 0., 0., 0., 0., 0., 0., 0., 0., 0.,\n",
       "       0., 0., 0., 0., 0., 0., 0., 0., 0., 0., 0., 0., 0., 0., 0., 0., 0.,\n",
       "       0., 0., 0., 0., 0., 0., 0., 0., 0., 0., 0., 0., 0., 0., 0., 0., 0.,\n",
       "       0., 0., 0., 0., 0., 0., 0., 0., 0., 0., 0., 0., 0., 0., 0., 1.])"
      ]
     },
     "execution_count": 32,
     "metadata": {},
     "output_type": "execute_result"
    }
   ],
   "source": [
    "state.net_distribution"
   ]
  },
  {
   "cell_type": "code",
   "execution_count": null,
   "metadata": {},
   "outputs": [
    {
     "data": {
      "text/plain": [
       "1000.0"
      ]
     },
     "execution_count": 33,
     "metadata": {},
     "output_type": "execute_result"
    }
   ],
   "source": [
    "state.net_worth "
   ]
  },
  {
   "cell_type": "code",
   "execution_count": null,
   "metadata": {},
   "outputs": [
    {
     "data": {
      "text/plain": [
       "(100,)"
      ]
     },
     "execution_count": 51,
     "metadata": {},
     "output_type": "execute_result"
    }
   ],
   "source": [
    "state.prices.shape"
   ]
  },
  {
   "cell_type": "markdown",
   "metadata": {},
   "source": []
  }
 ],
 "metadata": {
  "kernelspec": {
   "display_name": "Python 3.10.8 64-bit",
   "language": "python",
   "name": "python3"
  },
  "language_info": {
   "codemirror_mode": {
    "name": "ipython",
    "version": 3
   },
   "file_extension": ".py",
   "mimetype": "text/x-python",
   "name": "python",
   "nbconvert_exporter": "python",
   "pygments_lexer": "ipython3",
   "version": "3.11.4"
  },
  "orig_nbformat": 4,
  "vscode": {
   "interpreter": {
    "hash": "e7370f93d1d0cde622a1f8e1c04877d8463912d04d973331ad4851f04de6915a"
   }
  }
 },
 "nbformat": 4,
 "nbformat_minor": 2
}
