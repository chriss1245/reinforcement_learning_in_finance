{
 "cells": [
  {
   "cell_type": "code",
   "execution_count": 99,
   "metadata": {},
   "outputs": [],
   "source": [
    "import torch.nn as nn\n",
    "import pytorch_lightning as pl\n",
    "import torch"
   ]
  },
  {
   "cell_type": "code",
   "execution_count": 100,
   "metadata": {},
   "outputs": [],
   "source": [
    "from typing import Any\n",
    "\n",
    "\n",
    "class SelfAttention(nn.Module):\n",
    "    \"\"\"\n",
    "    Self attention layer\n",
    "    \"\"\"\n",
    "\n",
    "    def __init__(self, embed_size, heads):\n",
    "        \n",
    "        super().__init__()\n",
    "        self.embed_size = embed_size\n",
    "        self.heads = heads\n",
    "\n",
    "        self.head_dim = embed_size // heads\n",
    "\n",
    "        assert (self.head_dim * heads == embed_size), \"Embed size needs to be divisible by heads\"\n",
    "\n",
    "        self.values = nn.Linear(self.head_dim, self.head_dim, bias=False)\n",
    "        self.keys = nn.Linear(self.head_dim, self.head_dim, bias=False)\n",
    "        self.queries = nn.Linear(self.head_dim, self.head_dim, bias=False)\n",
    "        self.fc_out = nn.Linear(heads * self.head_dim, embed_size)\n",
    "\n",
    "    def forward(self, values, keys, query, mask):\n",
    "        N = query.shape[0] # batch size\n",
    "        value_len, key_len, query_len = values.shape[1], keys.shape[1], query.shape[1]\n",
    "\n",
    "        #split embedding into self.heads pieces\n",
    "        values = values.reshape(N, value_len, self.heads, self.head_dim)\n",
    "        keys = keys.reshape(N, key_len, self.heads, self.head_dim)\n",
    "        query = query.reshape(N, query_len, self.heads, self.head_dim)\n",
    "\n",
    "        values = self.values(values) # (N, value_len, heads, head_dim)\n",
    "        keys = self.keys(keys)\n",
    "        query = self.queries(query)\n",
    "\n",
    "        energy = torch.einsum(\"nqhd,nkhd->nhqk\", [query, keys])\n",
    "        # query shape: (N, query_len, heads, head_dim)\n",
    "        # keys shape: (N, key_len, heads, head_dim)\n",
    "        # energy shape: (N, heads, query_len, key_len)\n",
    "\n",
    "        if mask is not None:\n",
    "            energy = energy.masked_fill(mask == 0, float(\"-1e20\"))\n",
    "\n",
    "        \n",
    "        attention = torch.softmax(energy / (self.embed_size ** (1/2)), dim=3)\n",
    "\n",
    "        out = torch.einsum(\"nhql,nlhd->nqhd\", [attention, values])  \n",
    "\n",
    "        # attention shape: (N, heads, query_len, key_len)\n",
    "        # values shape: (N, value_len, heads, heads_dim)    \n",
    "        # out after matrix multiply: (N, query_len, heads, head_dim)\n",
    "\n",
    "        out = out.reshape(N, query_len, self.heads * self.head_dim)\n",
    "        # out shape: (N, query_len, embed_size)\n",
    "\n",
    "        out = self.fc_out(out)\n",
    "\n",
    "        return out\n"
   ]
  },
  {
   "cell_type": "code",
   "execution_count": 101,
   "metadata": {},
   "outputs": [
    {
     "data": {
      "text/plain": [
       "Sequential(\n",
       "  (0): Linear(in_features=10, out_features=32, bias=True)\n",
       "  (1): ReLU()\n",
       "  (2): Linear(in_features=32, out_features=64, bias=True)\n",
       ")"
      ]
     },
     "execution_count": 101,
     "metadata": {},
     "output_type": "execute_result"
    }
   ],
   "source": [
    "nn.Sequential(\n",
    "            nn.Linear(10, 32),\n",
    "            nn.ReLU(),\n",
    "            nn.Linear(32, 64),\n",
    "        )"
   ]
  },
  {
   "cell_type": "code",
   "execution_count": 102,
   "metadata": {},
   "outputs": [],
   "source": [
    "class TransformerBlock(nn.Module):\n",
    "\n",
    "    def __init__(self, embed_size, heads, dropout, forward_expansion):\n",
    "        super().__init__()\n",
    "        self.attention = SelfAttention(embed_size, heads)\n",
    "\n",
    "        self.norm1 = nn.LayerNorm(embed_size)\n",
    "\n",
    "        self.norm2 = nn.LayerNorm(embed_size)\n",
    "\n",
    "        print(embed_size, forward_expansion * embed_size)\n",
    "        self.feed_forward = nn.Sequential(\n",
    "            nn.Linear(embed_size, forward_expansion * embed_size),\n",
    "            nn.ReLU(),\n",
    "            nn.Linear(forward_expansion * embed_size, embed_size)\n",
    "        )\n",
    "\n",
    "        self.dropout = nn.Dropout(dropout)\n",
    "\n",
    "\n",
    "    \n",
    "    def forward(self, value, key, query, mask):\n",
    "        attention = self.attention(value, key, query, mask)\n",
    "\n",
    "        skip1 = self.dropout(self.norm1(attention + query))\n",
    "        forward = self.feed_forward(skip1)\n",
    "        skip2 = self.dropout(self.norm2(forward + skip1)) \n",
    "\n",
    "        return skip2\n",
    "    "
   ]
  },
  {
   "cell_type": "code",
   "execution_count": 103,
   "metadata": {},
   "outputs": [],
   "source": [
    "class Encoder(nn.Module):\n",
    "    def __init__(self, src_vocab_size, embed_size, num_layers, heads, device, forward_expansion, dropout, max_length):\n",
    "        super().__init__()\n",
    "        self.embed_size = embed_size\n",
    "        self.device = device\n",
    "        \n",
    "        self.word_embedding = nn.Embedding(src_vocab_size, embed_size)\n",
    "        self.positional_embedding = nn.Embedding(max_length, embed_size) # it is not the positional encoidding of the paper, but it is the same idea\n",
    "        # the other uses the sinusoidal positional encoding\n",
    "\n",
    "        self.layers = nn.ModuleList([\n",
    "            TransformerBlock(\n",
    "                embed_size, heads, dropout=dropout, forward_expansion=forward_expansion\n",
    "            )\n",
    "            \n",
    "        ])\n",
    "\n",
    "        self.dropout = nn.Dropout(dropout)\n",
    "\n",
    "    \n",
    "    def forward(self, x, mask):\n",
    "        N, seq_length = x.shape\n",
    "        positions = torch.arange(0, seq_length).expand(N, seq_length).to(self.device)\n",
    "        out = self.dropout(self.word_embedding(x) + self.positional_embedding(positions))\n",
    "\n",
    "        for layer in self.layers:\n",
    "            out = layer(out, out, out, mask)\n",
    "        \n",
    "        return out\n",
    "    \n"
   ]
  },
  {
   "cell_type": "code",
   "execution_count": 104,
   "metadata": {},
   "outputs": [],
   "source": [
    "class DecoderBlock(nn.Module):\n",
    "    def __init__(self, embed_size, heads, forward_expansion, dropout, device):\n",
    "        super().__init__()\n",
    "        self.attention = SelfAttention(embed_size, heads)\n",
    "        self.norm = nn.LayerNorm(embed_size)\n",
    "        self.transformer_block = TransformerBlock(embed_size, heads, dropout, forward_expansion)\n",
    "        self.dropout = nn.Dropout(dropout)\n",
    "\n",
    "    \n",
    "    def forward(self, x, value, key,  src_mask,  trg_mask):\n",
    "        attention = self.attention(x, x, x, trg_mask) # masked multi-head attention\n",
    "        query = self.dropout(self.norm(attention + x)) # additive residual connection and normalization\n",
    "        out = self.transformer_block(value, key, query, src_mask)\n",
    "        return out\n"
   ]
  },
  {
   "cell_type": "code",
   "execution_count": 105,
   "metadata": {},
   "outputs": [],
   "source": [
    "class Decoder(nn.Module):\n",
    "\n",
    "    def __init__(self,\n",
    "                 trg_vocab_size,\n",
    "                 embed_size,\n",
    "                 num_layers,\n",
    "                 heads,\n",
    "                 forward_expansion,\n",
    "                 dropout,\n",
    "                 device,\n",
    "                 max_length):\n",
    "        super().__init__()\n",
    "        self.device = device\n",
    "        self.word_embedding = nn.Embedding(trg_vocab_size, embed_size)\n",
    "        self.position_embedding = nn.Embedding(max_length, embed_size)\n",
    "\n",
    "        self.layers = nn.ModuleList(\n",
    "            [\n",
    "                DecoderBlock(embed_size,heads, dropout=dropout, forward_expansion=forward_expansion, device=device) \n",
    "            \n",
    "            for _ in range(num_layers)]\n",
    "        )\n",
    "\n",
    "    \n",
    "    def forward(self, x, enc_out, src_mask, trg_mask):\n",
    "        N, seq_length = x.shape\n",
    "        positions = torch.arange(0, seq_length).expand(N, seq_length).to(self.device)\n",
    "        x = self.word_embedding(x) + self.position_embedding(positions)\n",
    "\n",
    "        for layer in self.layers:\n",
    "            x = layer(x, enc_out, enc_out, src_mask, trg_mask)\n",
    "        \n",
    "        return x\n"
   ]
  },
  {
   "cell_type": "code",
   "execution_count": 108,
   "metadata": {},
   "outputs": [],
   "source": [
    "from typing import Any\n",
    "\n",
    "\n",
    "class Transformer(pl.LightningModule):\n",
    "    def __init__(self, \n",
    "                 src_vocab_size,\n",
    "                 trg_vocab_size,\n",
    "                 src_pad_idx,\n",
    "                 trg_pad_idx,\n",
    "                 embed_size=256,\n",
    "                 num_layers=6,\n",
    "                 forward_expansion=4,\n",
    "                 heads=8,\n",
    "                 dropout=0.1,\n",
    "                 device=\"cuda\",\n",
    "                 max_length=100):\n",
    "        super().__init__()\n",
    "        \n",
    "        self.encoder = Encoder(src_vocab_size=src_vocab_size,\n",
    "                                 embed_size=embed_size,\n",
    "                                 num_layers=num_layers,\n",
    "                                 heads=heads,\n",
    "                                 device=device,\n",
    "                                 forward_expansion=forward_expansion,\n",
    "                                 dropout=dropout,\n",
    "                                 max_length=max_length)\n",
    "        self.decoder = Decoder(trg_vocab_size=trg_vocab_size,\n",
    "                                    embed_size=embed_size,\n",
    "                                    num_layers=num_layers,\n",
    "                                    heads=heads,\n",
    "                                    device=device,\n",
    "                                    forward_expansion=forward_expansion,\n",
    "                                    dropout=dropout,\n",
    "                                    max_length=max_length)\n",
    "\n",
    "        self.src_pad_idx = src_pad_idx\n",
    "        self.trg_pad_idx = trg_pad_idx\n",
    "\n",
    "\n",
    "    def make_src_mask(self, src):\n",
    "        src_mask = (src != self.src_pad_idx).unsqueeze(1).unsqueeze(2)\n",
    "        # (N, 1, 1, src_len)\n",
    "        return src_mask.to(self.device)\n",
    "\n",
    "    def make_trg_mask(self, trg):\n",
    "        N, trg_len = trg.shape\n",
    "        trg_mask = torch.tril(torch.ones((trg_len, trg_len))).expand(N, 1, trg_len, trg_len)\n",
    "        # (N, 1, trg_len, trg_len)\n",
    "        return trg_mask.to(self.device)\n",
    "    \n",
    "    def forward(self, src, trg):\n",
    "        src_mask = self.make_src_mask(src)\n",
    "        trg_mask = self.make_trg_mask(trg)\n",
    "        enc_src = self.encoder(src, src_mask)\n",
    "        out = self.decoder(trg, enc_src, trg_mask, src_mask)\n",
    "        return out\n",
    "\n"
   ]
  },
  {
   "cell_type": "code",
   "execution_count": 123,
   "metadata": {},
   "outputs": [],
   "source": [
    "\n",
    "# test the transformer model\n",
    "\n",
    "import torch\n",
    "\n",
    "src = torch.LongTensor([[1, 2, 3, 4, 5, 6, 7, 8, 9, 10, 10, 1, 0]])\n",
    "tgt = torch.LongTensor([[1, 2, 3, 4, 5, 6, 7, 8, 9, 10, 10, 1, 0]])\n",
    "\n",
    "#model = Transformer(src_vocab_size=11, trg_vocab_size=11, src_pad_idx=0, trg_pad_idx=0, device=\"cpu\")\n",
    "out = model(src, tgt)\n"
   ]
  },
  {
   "cell_type": "code",
   "execution_count": 124,
   "metadata": {},
   "outputs": [
    {
     "data": {
      "text/plain": [
       "tensor([[[-0.0000, -0.3477,  0.0623,  ..., -0.0971, -0.3647,  0.2401],\n",
       "         [ 0.3695, -0.0000, -0.1089,  ..., -1.2637, -0.4216, -0.0414],\n",
       "         [-0.4604,  3.3015,  0.4987,  ..., -0.0142, -0.2659,  0.3428],\n",
       "         ...,\n",
       "         [ 3.7196,  4.1042,  0.2719,  ..., -0.3835, -0.0000, -0.1760],\n",
       "         [-0.6158,  0.2001, -4.2879,  ...,  0.0981, -0.1111, -0.3317],\n",
       "         [-0.6386, -0.0670,  0.4058,  ...,  0.0893, -0.0428, -0.3221]]],\n",
       "       grad_fn=<MulBackward0>)"
      ]
     },
     "execution_count": 124,
     "metadata": {},
     "output_type": "execute_result"
    }
   ],
   "source": [
    "out"
   ]
  },
  {
   "cell_type": "code",
   "execution_count": 126,
   "metadata": {},
   "outputs": [
    {
     "data": {
      "text/plain": [
       "torch.Size([1, 13, 256])"
      ]
     },
     "execution_count": 126,
     "metadata": {},
     "output_type": "execute_result"
    }
   ],
   "source": [
    "out.shape"
   ]
  }
 ],
 "metadata": {
  "kernelspec": {
   "display_name": "tfg_env",
   "language": "python",
   "name": "python3"
  },
  "language_info": {
   "codemirror_mode": {
    "name": "ipython",
    "version": 3
   },
   "file_extension": ".py",
   "mimetype": "text/x-python",
   "name": "python",
   "nbconvert_exporter": "python",
   "pygments_lexer": "ipython3",
   "version": "3.11.4"
  },
  "orig_nbformat": 4
 },
 "nbformat": 4,
 "nbformat_minor": 2
}
