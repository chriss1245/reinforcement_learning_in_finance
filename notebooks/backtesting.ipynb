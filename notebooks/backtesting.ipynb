{
 "cells": [
  {
   "cell_type": "code",
   "execution_count": null,
   "metadata": {},
   "outputs": [],
   "source": [
    "\n",
    "class Backtester:\n",
    "\n",
    "    def __init__(self, dataset, agent, train_size=100, initial_capital=100000.0, commission=1.0, leverage=1.0):\n",
    "        self.dataset = dataset\n",
    "        self.agent = agent\n",
    "        self.initial_capital = initial_capital\n",
    "        self.commission = commission\n",
    "        self.leverage = leverage\n",
    "        self.step = 0\n",
    "        self.train_size = train_size\n",
    "    \n",
    "    def next(self):\n",
    "        self.step += 1      "
   ]
  },
  {
   "cell_type": "code",
   "execution_count": null,
   "metadata": {},
   "outputs": [],
   "source": [
    "class MarketEnvironment():\n",
    "    \"\"\"\n",
    "    Simulates the market environment. We can buy and sell stocks, and get information about the current state of the market.\n",
    "    \"\"\"\n",
    "\n",
    "    def __init__(self, dataset, train_size=100, initial_capital=100000.0, commission=1.0, leverage=1.0):\n",
    "        self.dataset = dataset\n",
    "        self.initial_capital = initial_capital\n",
    "        self.commission = commission\n",
    "        self.leverage = leverage\n",
    "        self.step = 0\n",
    "        self.train_size = train_size\n",
    "    \n",
    "    def next(self):\n",
    "        self.step += 1\n",
    "        "
   ]
  },
  {
   "cell_type": "markdown",
   "metadata": {},
   "source": []
  }
 ],
 "metadata": {
  "kernelspec": {
   "display_name": "Python 3.10.8 64-bit",
   "language": "python",
   "name": "python3"
  },
  "language_info": {
   "name": "python",
   "version": "3.10.8"
  },
  "orig_nbformat": 4,
  "vscode": {
   "interpreter": {
    "hash": "e7370f93d1d0cde622a1f8e1c04877d8463912d04d973331ad4851f04de6915a"
   }
  }
 },
 "nbformat": 4,
 "nbformat_minor": 2
}
